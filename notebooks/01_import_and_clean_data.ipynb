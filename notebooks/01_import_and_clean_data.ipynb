{
 "cells": [
  {
   "cell_type": "markdown",
   "metadata": {},
   "source": [
    "# Generate full emissions portfolio from projected Kyoto gas baskets\n",
    "Updated to include announcements as of COP26, 5/11/21. Including an analysis of full impact of Net Zero commitments on emissions.\n",
    "\n",
    "NOTE: Most of this file is unnecessary - only the file sr15_cleaned.csv is needed from this!\n",
    "\n",
    "# Part 1: import and clean data"
   ]
  },
  {
   "cell_type": "code",
   "execution_count": 1,
   "metadata": {},
   "outputs": [],
   "source": [
    "import sys\n",
    "stdout = sys.stdout"
   ]
  },
  {
   "cell_type": "code",
   "execution_count": 2,
   "metadata": {
    "scrolled": true
   },
   "outputs": [
    {
     "data": {
      "application/javascript": [
       "if (typeof IPython !== 'undefined') { IPython.OutputArea.prototype._should_scroll = function(lines){ return false; }}"
      ],
      "text/plain": [
       "<IPython.core.display.Javascript object>"
      ]
     },
     "metadata": {},
     "output_type": "display_data"
    }
   ],
   "source": [
    "import country_converter\n",
    "import matplotlib.pyplot as plt\n",
    "import os\n",
    "import numpy as np\n",
    "import pandas as pd\n",
    "import pyam\n",
    "import re"
   ]
  },
  {
   "cell_type": "code",
   "execution_count": 3,
   "metadata": {},
   "outputs": [],
   "source": [
    "from silicone.time_projectors import ExtendLatestTimeQuantile\n",
    "import silicone.multiple_infillers as mi\n",
    "import silicone.database_crunchers as dc\n",
    "from silicone.utils import download_or_load_sr15, convert_units_to_MtCO2_equiv, _construct_consistent_values"
   ]
  },
  {
   "cell_type": "code",
   "execution_count": 4,
   "metadata": {},
   "outputs": [],
   "source": [
    "version_no = \"24.2\"\n",
    "version_no = version_no"
   ]
  },
  {
   "cell_type": "markdown",
   "metadata": {},
   "source": [
    "# Import the data\n",
    "Data is imported and put into pyam format. Names of regions are unified. Units of measurements are defined and cleaned. "
   ]
  },
  {
   "cell_type": "code",
   "execution_count": 5,
   "metadata": {},
   "outputs": [],
   "source": [
    "region_trans = {\n",
    "    \"OECD\": \"R5OECD90+EU\",\n",
    "    \"Asia\": \"R5ASIA\", \n",
    "    \"Reforming Economies\": 'R5REF', \n",
    "    \"Latin America\": 'R5LAM', \n",
    "    \"Middle East and Africa\": 'R5MAF', \n",
    "    \"International bunkers\": 'R5ROWO', \n",
    "    \"World incl. Harmonisation\": 'World', \n",
    "    \"Harmonisation factor\": \"Harmonisation factor\"\n",
    "}"
   ]
  },
  {
   "cell_type": "code",
   "execution_count": 6,
   "metadata": {},
   "outputs": [],
   "source": [
    "variable = \"Emissions|Kyoto Gases (AR6-GWP100)\"\n",
    "metricname = \"AR6GWP100\"\n",
    "kyexaf = variable + \"|Excluding CO2 AFOLU\"\n",
    "unit = \"Mt CO2-equiv/yr\"\n",
    "co2unit = \"Mt CO2/yr\""
   ]
  },
  {
   "cell_type": "code",
   "execution_count": null,
   "metadata": {},
   "outputs": [
    {
     "name": "stderr",
     "output_type": "stream",
     "text": [
      "pyam - INFO: Running in a notebook, setting up a basic logging at level INFO\n",
      "pyam.core - INFO: Reading file ..\\input\\complete_sr15.csv\n"
     ]
    }
   ],
   "source": [
    "# Read in and prepare the SR1.5 database. SR1.5 has more scenarios\n",
    "sr15_file = \"../input/complete_sr15.csv\"\n",
    "if not os.path.isfile(sr15_file):\n",
    "    conn = pyam.iiasa.Connection(\"IXSE_SSP\")\n",
    "    sr15 = conn.query(timeslice=None)\n",
    "    sr15.to_csv(sr15_file)\n",
    "    sr15 = sr15.filter(region=\"World\")\n",
    "else:\n",
    "    sr15 = pyam.IamDataFrame(sr15_file)"
   ]
  },
  {
   "cell_type": "code",
   "execution_count": null,
   "metadata": {},
   "outputs": [],
   "source": [
    "co2 = \"Emissions|CO2\"\n",
    "co2ind = \"Emissions|CO2|Energy and Industrial Processes\"\n",
    "co2afolu = \"Emissions|CO2|AFOLU\"\n",
    "kyotos = [co2ind, co2afolu, \"Emissions|CH4\", \"Emissions|N2O\", \"Emissions|F-Gases\"]"
   ]
  },
  {
   "cell_type": "code",
   "execution_count": null,
   "metadata": {},
   "outputs": [],
   "source": [
    "# Correct a difficult unit\n",
    "sr15 = sr15.rename({\"unit\":{\"kt HFC43-10/yr\": \"kt HFC4310mee/yr\"}})"
   ]
  },
  {
   "cell_type": "code",
   "execution_count": null,
   "metadata": {},
   "outputs": [],
   "source": [
    "sr15 = sr15.filter(variable=[\"Emissions*\", \"Price|Carbon\"]).filter(level=\"3+\", keep=False).interpolate(2015)"
   ]
  },
  {
   "cell_type": "code",
   "execution_count": null,
   "metadata": {},
   "outputs": [],
   "source": [
    "messageg = \"MESSAGE-GLOBIOM 1.0\"\n",
    "ssp2mes = sr15.filter(model=messageg, scenario=\"SSP2*\", variable=variable)\n",
    "ssp2mes = pyam.IamDataFrame(ssp2mes.data)"
   ]
  },
  {
   "cell_type": "code",
   "execution_count": null,
   "metadata": {},
   "outputs": [],
   "source": [
    "regional_emtype = [co2ind, co2afolu, \"Emissions|CH4\", \"Emissions|N2O\", \"Emissions|F-Gases\"]\n",
    "ssp2mes_reg = sr15.filter(scenario=\"SSP2*\", model=messageg)\n",
    "for region in ssp2mes_reg.region:\n",
    "    if region != \"World\":\n",
    "        ssp2mes_kyoto = _construct_consistent_values(\n",
    "            variable, regional_emtype, convert_units_to_MtCO2_equiv(\n",
    "                ssp2mes_reg.filter(region=region, variable=regional_emtype), metric_name=metricname\n",
    "            )\n",
    "        )\n",
    "        ssp2mes_reg = ssp2mes_reg.append(ssp2mes_kyoto)\n",
    "ssp2mes_reg.filter(variable=variable).data"
   ]
  },
  {
   "cell_type": "code",
   "execution_count": null,
   "metadata": {},
   "outputs": [],
   "source": [
    "ssp2mes_reg.check_aggregate_region(variable=variable)"
   ]
  },
  {
   "cell_type": "code",
   "execution_count": null,
   "metadata": {},
   "outputs": [],
   "source": [
    "ssp2mes_reg.region"
   ]
  },
  {
   "cell_type": "code",
   "execution_count": null,
   "metadata": {},
   "outputs": [],
   "source": [
    "unit_lookup = sr15.data[[\"variable\", \"unit\"]].drop_duplicates().set_index(\"variable\")"
   ]
  },
  {
   "cell_type": "code",
   "execution_count": null,
   "metadata": {},
   "outputs": [],
   "source": [
    "# Import historical database\n",
    "histall = pd.read_excel(\"../input/VanMarle2017Totals.xlsx\", skiprows=1)\n",
    "del histall[\"Unnamed: 13\"]\n",
    "del histall[\"Unnamed: 14\"]\n",
    "del histall[\"Unnamed: 15\"]\n",
    "histall = histall.rename(columns={\"Scenario (History)\": \"Scenario\"})\n",
    "histall[\"Variable\"] = histall[\"Variable\"].str.replace(\"CMIP6 \", \"\")\n",
    "histall[\"Scenario\"] = \"History\"\n",
    "histall[\"Region\"] = histall[\"Region\"].str.replace(\".2\", \"\").replace(\"R5OECD\", \"R5OECD90+EU\")\n",
    "histall = pyam.IamDataFrame(histall)"
   ]
  },
  {
   "cell_type": "code",
   "execution_count": null,
   "metadata": {},
   "outputs": [],
   "source": [
    "kyoto_gases = [\n",
    "        'Emissions|C2F6', \n",
    "        'Emissions|CF4',\n",
    "        'Emissions|CH4',\n",
    "        'Emissions|CO2',\n",
    "        'Emissions|HFC',\n",
    "        'Emissions|SF6',\n",
    "        'Emissions|N2O'\n",
    "]\n",
    "fgases = [\"Emissions|HFC\", 'Emissions|PFC|C2F6', 'EmissionsPFC|CF4', 'Emissions|SF6']\n",
    "pfcs = ['Emissions|PFC|C2F6', 'Emissions|PFC|CF4']\n",
    "histkyoto = _construct_consistent_values(\n",
    "    variable, \n",
    "    kyoto_gases, \n",
    "    convert_units_to_MtCO2_equiv(histall.filter(region=\"World\", variable=kyoto_gases), metric_name=metricname)\n",
    ")\n",
    "histall = histall.rename(variable={\"Emissions|CF4\":\"Emissions|PFC|CF4\", 'Emissions|C2F6':'Emissions|PFC|C2F6'})\n",
    "histkyoto.timeseries()\n",
    "histall = histall.append(histkyoto)\n",
    "histnonafolu = histall.subtract(\n",
    "    variable,\n",
    "    co2afolu,\n",
    "    name=kyexaf,\n",
    "    ignore_units=True\n",
    ")\n",
    "histnonafolu = histnonafolu.data\n",
    "histnonafolu[\"unit\"] = unit\n",
    "histnonafolu = pyam.IamDataFrame(histnonafolu)\n",
    "histco2eni = histall.subtract(\n",
    "    co2,\n",
    "    co2afolu,\n",
    "    name=co2ind,\n",
    "    ignore_units=True\n",
    ").data\n",
    "histco2eni[\"unit\"] = \"Mt CO2/yr\"\n",
    "histco2eni = pyam.IamDataFrame(histco2eni)\n",
    "histfgas = _construct_consistent_values(\n",
    "    \"Emissions|F-Gases\", \n",
    "    fgases, \n",
    "    convert_units_to_MtCO2_equiv(histall.filter(region=\"World\", variable=fgases), metric_name=metricname)\n",
    ")\n",
    "histpfc = _construct_consistent_values(\n",
    "    \"Emissions|PFC\", \n",
    "    pfcs, \n",
    "    convert_units_to_MtCO2_equiv(histall.filter(region=\"World\", variable=pfcs), metric_name=metricname)\n",
    ")\n",
    "histall = histall.append(histnonafolu).append(histco2eni).append(histfgas).append(histpfc)"
   ]
  },
  {
   "cell_type": "code",
   "execution_count": null,
   "metadata": {},
   "outputs": [],
   "source": [
    "histall.timeseries()"
   ]
  },
  {
   "cell_type": "markdown",
   "metadata": {},
   "source": [
    "# Save relevant values\n"
   ]
  },
  {
   "cell_type": "code",
   "execution_count": null,
   "metadata": {},
   "outputs": [],
   "source": [
    "out_folder = f\"../output/processed_files/{version_no}/\"\n",
    "os.makedirs(out_folder, exist_ok=True)\n",
    "sr15.to_csv(out_folder + \"sr15_cleaned.csv\")\n",
    "histall.to_csv(out_folder + \"histall_cleaned.csv\")"
   ]
  }
 ],
 "metadata": {
  "kernelspec": {
   "display_name": "silicone-1",
   "language": "python",
   "name": "silicone-1"
  },
  "language_info": {
   "codemirror_mode": {
    "name": "ipython",
    "version": 3
   },
   "file_extension": ".py",
   "mimetype": "text/x-python",
   "name": "python",
   "nbconvert_exporter": "python",
   "pygments_lexer": "ipython3",
   "version": "3.7.11"
  }
 },
 "nbformat": 4,
 "nbformat_minor": 4
}
